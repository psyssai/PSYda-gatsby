{
 "cells": [
  {
   "cell_type": "code",
   "execution_count": 1,
   "id": "indian-earth",
   "metadata": {},
   "outputs": [],
   "source": [
    "import psycopg2\n",
    "import pandas as pd\n",
    "from pandas import Series, DataFrame"
   ]
  },
  {
   "cell_type": "code",
   "execution_count": 2,
   "id": "protective-smoke",
   "metadata": {},
   "outputs": [],
   "source": [
    "connection = psycopg2.connect(database=\"01_dvdrental\", user=\"postgres\", password=\"qkrtkddus!1\")\n",
    "cursor = connection.cursor()"
   ]
  },
  {
   "cell_type": "code",
   "execution_count": null,
   "id": "vulnerable-estonia",
   "metadata": {},
   "outputs": [],
   "source": [
    "cursor.execute(\"SELECT TITLE, LENGTH\")\n",
    "DataFrame(cursor.fetchall(), columns = [\"group_id\", \"group_name\"])"
   ]
  }
 ],
 "metadata": {
  "kernelspec": {
   "display_name": "geospatial",
   "language": "python",
   "name": "geospatial"
  },
  "language_info": {
   "codemirror_mode": {
    "name": "ipython",
    "version": 3
   },
   "file_extension": ".py",
   "mimetype": "text/x-python",
   "name": "python",
   "nbconvert_exporter": "python",
   "pygments_lexer": "ipython3",
   "version": "3.6.13"
  }
 },
 "nbformat": 4,
 "nbformat_minor": 5
}
